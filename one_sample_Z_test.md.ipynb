{
  "metadata": {
    "kernelspec": {
      "name": "python",
      "display_name": "Python (Pyodide)",
      "language": "python"
    },
    "language_info": {
      "codemirror_mode": {
        "name": "python",
        "version": 3
      },
      "file_extension": ".py",
      "mimetype": "text/x-python",
      "name": "python",
      "nbconvert_exporter": "python",
      "pygments_lexer": "ipython3",
      "version": "3.8"
    }
  },
  "nbformat_minor": 4,
  "nbformat": 4,
  "cells": [
    {
      "cell_type": "code",
      "source": "from scipy import stats",
      "metadata": {
        "trusted": true
      },
      "outputs": [],
      "execution_count": 1
    },
    {
      "cell_type": "markdown",
      "source": "Problem 1",
      "metadata": {}
    },
    {
      "cell_type": "markdown",
      "source": "Method: Critical value",
      "metadata": {}
    },
    {
      "cell_type": "code",
      "source": "# pop mean = 140\n# pop stdev = 25\n# sample mean = 150\n# sample size = 30\n(150 - 140)/(25/(30**0.5))",
      "metadata": {
        "trusted": true
      },
      "outputs": [
        {
          "execution_count": 2,
          "output_type": "execute_result",
          "data": {
            "text/plain": "2.1908902300206643"
          },
          "metadata": {}
        }
      ],
      "execution_count": 2
    },
    {
      "cell_type": "markdown",
      "source": "Method: p value",
      "metadata": {}
    },
    {
      "cell_type": "code",
      "source": "1-stats.norm.cdf(2.19, loc=0, scale=1)",
      "metadata": {
        "trusted": true
      },
      "outputs": [
        {
          "execution_count": 4,
          "output_type": "execute_result",
          "data": {
            "text/plain": "0.014262118410668823"
          },
          "metadata": {}
        }
      ],
      "execution_count": 4
    },
    {
      "cell_type": "markdown",
      "source": "Problem 2",
      "metadata": {}
    },
    {
      "cell_type": "code",
      "source": "Method: Critical value",
      "metadata": {
        "trusted": true
      },
      "outputs": [],
      "execution_count": null
    },
    {
      "cell_type": "code",
      "source": "# pop mean = 180\n# pop stdev = NA\n# sample stdev = 120\n# sample mean = 200\n# sample size = 50\n(180 - 200)/(120/(50**0.5))",
      "metadata": {
        "trusted": true
      },
      "outputs": [
        {
          "execution_count": 5,
          "output_type": "execute_result",
          "data": {
            "text/plain": "-1.1785113019775793"
          },
          "metadata": {}
        }
      ],
      "execution_count": 5
    },
    {
      "cell_type": "markdown",
      "source": "Method: p value",
      "metadata": {}
    },
    {
      "cell_type": "code",
      "source": "stats.norm.cdf(-1.178, loc=0, scale=1)",
      "metadata": {
        "trusted": true
      },
      "outputs": [
        {
          "execution_count": 6,
          "output_type": "execute_result",
          "data": {
            "text/plain": "0.11939830311473054"
          },
          "metadata": {}
        }
      ],
      "execution_count": 6
    },
    {
      "cell_type": "markdown",
      "source": "Problem 3",
      "metadata": {}
    },
    {
      "cell_type": "markdown",
      "source": "Method: Critical value",
      "metadata": {}
    },
    {
      "cell_type": "code",
      "source": "# pop mean = 105\n# pop stdev = 20\n# sample mean = 100\n# sample size = 36\n(105 - 100)/(20/(36**0.5))",
      "metadata": {
        "trusted": true
      },
      "outputs": [
        {
          "execution_count": 8,
          "output_type": "execute_result",
          "data": {
            "text/plain": "1.5"
          },
          "metadata": {}
        }
      ],
      "execution_count": 8
    },
    {
      "cell_type": "code",
      "source": "stats.norm.cdf(1.5, loc=0, scale=1)",
      "metadata": {
        "trusted": true
      },
      "outputs": [
        {
          "execution_count": 9,
          "output_type": "execute_result",
          "data": {
            "text/plain": "0.9331927987311419"
          },
          "metadata": {}
        }
      ],
      "execution_count": 9
    },
    {
      "cell_type": "code",
      "source": "1-stats.norm.cdf(1.5, loc=0, scale=1)",
      "metadata": {
        "trusted": true
      },
      "outputs": [
        {
          "execution_count": 10,
          "output_type": "execute_result",
          "data": {
            "text/plain": "0.06680720126885809"
          },
          "metadata": {}
        }
      ],
      "execution_count": 10
    },
    {
      "cell_type": "code",
      "source": "",
      "metadata": {
        "trusted": true
      },
      "outputs": [],
      "execution_count": null
    }
  ]
}